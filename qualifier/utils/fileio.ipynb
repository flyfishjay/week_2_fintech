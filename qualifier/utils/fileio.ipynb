{
 "cells": [
  {
   "cell_type": "code",
   "execution_count": null,
   "metadata": {},
   "outputs": [],
   "source": [
    "# -*- coding: utf-8 -*-\n",
    "\"\"\"Helper functions to load and save CSV data.\n",
    "\n",
    "This contains a helper function for loading and saving CSV files.\n",
    "\n",
    "\"\"\"\n",
    "import csv\n",
    "\n",
    "\n",
    "def load_csv(csvpath):\n",
    "    \"\"\"Reads the CSV file from path provided.\n",
    "\n",
    "    Args:\n",
    "        csvpath (Path): The csv file path.\n",
    "\n",
    "    Returns:\n",
    "        A list of lists that contains the rows of data from the CSV file.\n",
    "\n",
    "    \"\"\"\n",
    "    with open(csvpath, \"r\") as csvfile:\n",
    "        data = []\n",
    "        csvreader = csv.reader(csvfile, delimiter=\",\")\n",
    "\n",
    "        # Skip the CSV Header\n",
    "        next(csvreader)\n",
    "\n",
    "        # Read the CSV data\n",
    "        for row in csvreader:\n",
    "            data.append(row)\n",
    "    return data"
   ]
  },
  {
   "cell_type": "code",
   "execution_count": null,
   "metadata": {},
   "outputs": [],
   "source": [
    "def save_csv(csvpath, data, header= None):\n",
    "     with open(csvpath, \"w\", newline=\"\") as csvfile:\n",
    "        csvwriter = csv.writer(csvfile, delimiter=\",\")\n",
    "        if header:\n",
    "            csvwriter.writerow(header)\n",
    "        csvwriter.writerows(data)\n",
    "            \n",
    "#In app.py, write a function named save_csv that uses the csv library to save the qualifying data as a file."
   ]
  }
 ],
 "metadata": {
  "anaconda-cloud": {},
  "kernelspec": {
   "display_name": "Python 3",
   "language": "python",
   "name": "python3"
  },
  "language_info": {
   "codemirror_mode": {
    "name": "ipython",
    "version": 3
   },
   "file_extension": ".py",
   "mimetype": "text/x-python",
   "name": "python",
   "nbconvert_exporter": "python",
   "pygments_lexer": "ipython3",
   "version": "3.8.8"
  }
 },
 "nbformat": 4,
 "nbformat_minor": 4
}
